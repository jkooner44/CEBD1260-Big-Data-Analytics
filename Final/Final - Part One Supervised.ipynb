{
 "cells": [
  {
   "cell_type": "markdown",
   "metadata": {},
   "source": [
    "> Final Programming Assignment - Part One Supervised\n",
    "\n",
    "In this notebook, we will implement k-Nearest Neighbors.\n",
    "\n",
    "In this part of the final we will classify data from a cancer diagnostic database. \n",
    "In this database are patients with tumors, characteristics of those tumors, and biospy results indicating whether the tumor is Malignant or Benign.\n",
    "\n",
    "In cancer_data.txt you will find the following variables:\n",
    "\n",
    "   - radius (mean of distances from center to points on the perimeter)\n",
    "   - texture (standard deviation of gray-scale values)\n",
    "   - perimeter\n",
    "   - area\n",
    "   - smoothness (local variation in radius lengths)\n",
    "   - compactness (perimeter^2 / area - 1.0)\n",
    "   - concavity (severity of concave portions of the contour)\n",
    "   - concave_points (number of concave portions of the contour)\n",
    "   - symmetry \n",
    "   - fractal_dimension (\"coastline approximation\" - 1)\n",
    "   - cancer (0 = Benign, 1 = Malignant)  *target*"
   ]
  },
  {
   "cell_type": "markdown",
   "metadata": {},
   "source": [
    "First, we need to load the appropriate libraries for cleaning the data and then running a kMeans clustering algorithm. Again, we also set a random seed for replication."
   ]
  },
  {
   "cell_type": "code",
   "execution_count": 45,
   "metadata": {},
   "outputs": [],
   "source": [
    "from sklearn import cluster, neighbors, datasets\n",
    "import pandas as pd\n",
    "import numpy as np\n",
    "\n",
    "k=10"
   ]
  },
  {
   "cell_type": "markdown",
   "metadata": {},
   "source": [
    "Here we use the read_csv function from pandas to read in our dataset and take a subset of variables used for training."
   ]
  },
  {
   "cell_type": "code",
   "execution_count": 46,
   "metadata": {},
   "outputs": [],
   "source": [
    "df = pd.read_csv('cancer_data.csv')\n",
    "x = df[['radius','texture','perimeter','area','smoothness','compactness','concavity','concave_points','symmetry','fractal_dimension']]"
   ]
  },
  {
   "cell_type": "code",
   "execution_count": 47,
   "metadata": {},
   "outputs": [],
   "source": [
    "Y = df.cancer"
   ]
  },
  {
   "cell_type": "code",
   "execution_count": 48,
   "metadata": {},
   "outputs": [],
   "source": [
    "knn = neighbors.KNeighborsClassifier(\n",
    "    n_neighbors=k, \n",
    "    weights='distance')"
   ]
  },
  {
   "cell_type": "code",
   "execution_count": 49,
   "metadata": {},
   "outputs": [
    {
     "data": {
      "text/plain": [
       "KNeighborsClassifier(algorithm='auto', leaf_size=30, metric='minkowski',\n",
       "           metric_params=None, n_jobs=1, n_neighbors=10, p=2,\n",
       "           weights='distance')"
      ]
     },
     "execution_count": 49,
     "metadata": {},
     "output_type": "execute_result"
    }
   ],
   "source": [
    "knn.fit(x, Y)"
   ]
  },
  {
   "cell_type": "markdown",
   "metadata": {},
   "source": [
    "The type of cancer for the data : \n",
    "\n",
    "   - radius: 14\n",
    "   - texture: 14\n",
    "   - perimeter: 88\n",
    "   - area: 566\n",
    "   - smoothness: 1\n",
    "   - compactness: 0.08\n",
    "   - concavity: 0.06\n",
    "   - concae points: 0.04\n",
    "   - symmetry: 0.18\n",
    "   - fractal dimension: 0.05"
   ]
  },
  {
   "cell_type": "code",
   "execution_count": 53,
   "metadata": {},
   "outputs": [
    {
     "name": "stdout",
     "output_type": "stream",
     "text": [
      "[ 1.]\n"
     ]
    }
   ],
   "source": [
    "pred_1 = knn.predict([[14,14,88,566,1,0.08,0.06,0.04,0.18,0.05]])\n",
    "print(pred_1)"
   ]
  },
  {
   "cell_type": "markdown",
   "metadata": {},
   "source": [
    "result: 1 = Malignant cancer"
   ]
  }
 ],
 "metadata": {
  "kernelspec": {
   "display_name": "Python 3",
   "language": "python",
   "name": "python3"
  },
  "language_info": {
   "codemirror_mode": {
    "name": "ipython",
    "version": 3
   },
   "file_extension": ".py",
   "mimetype": "text/x-python",
   "name": "python",
   "nbconvert_exporter": "python",
   "pygments_lexer": "ipython3",
   "version": "3.6.2"
  }
 },
 "nbformat": 4,
 "nbformat_minor": 2
}
